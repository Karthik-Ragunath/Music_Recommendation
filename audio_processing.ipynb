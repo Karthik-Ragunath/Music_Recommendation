{
  "nbformat": 4,
  "nbformat_minor": 0,
  "metadata": {
    "kernelspec": {
      "language": "python",
      "display_name": "Python 3",
      "name": "python3"
    },
    "language_info": {
      "pygments_lexer": "ipython3",
      "nbconvert_exporter": "python",
      "version": "3.6.4",
      "file_extension": ".py",
      "codemirror_mode": {
        "name": "ipython",
        "version": 3
      },
      "name": "python",
      "mimetype": "text/x-python"
    },
    "colab": {
      "name": "audio-processing-team.ipynb",
      "provenance": []
    }
  },
  "cells": [
    {
      "cell_type": "code",
      "metadata": {
        "_uuid": "8f2839f25d086af736a60e9eeb907d3b93b6e0e5",
        "_cell_guid": "b1076dfc-b9ad-4769-8c92-a6c4dae69d19",
        "execution": {
          "iopub.status.busy": "2021-08-13T20:17:26.793424Z",
          "iopub.execute_input": "2021-08-13T20:17:26.79387Z",
          "iopub.status.idle": "2021-08-13T20:17:26.814568Z",
          "shell.execute_reply.started": "2021-08-13T20:17:26.793789Z",
          "shell.execute_reply": "2021-08-13T20:17:26.813618Z"
        },
        "trusted": true,
        "id": "2kuzSgTm9joZ"
      },
      "source": [
        "# This Python 3 environment comes with many helpful analytics libraries installed\n",
        "# It is defined by the kaggle/python Docker image: https://github.com/kaggle/docker-python\n",
        "# For example, here's several helpful packages to load\n",
        "\n",
        "import numpy as np # linear algebra\n",
        "import pandas as pd # data processing, CSV file I/O (e.g. pd.read_csv)\n",
        "\n",
        "# Input data files are available in the read-only \"../input/\" directory\n",
        "# For example, running this (by clicking run or pressing Shift+Enter) will list all files under the input directory\n",
        "\n",
        "import os\n",
        "for dirname, _, filenames in os.walk('/kaggle/input'):\n",
        "    for filename in filenames:\n",
        "        print(os.path.join(dirname, filename))\n",
        "\n",
        "# You can write up to 20GB to the current directory (/kaggle/working/) that gets preserved as output when you create a version using \"Save & Run All\" \n",
        "# You can also write temporary files to /kaggle/temp/, but they won't be saved outside of the current session"
      ],
      "execution_count": null,
      "outputs": []
    },
    {
      "cell_type": "code",
      "metadata": {
        "execution": {
          "iopub.status.busy": "2021-08-13T20:17:26.83784Z",
          "iopub.execute_input": "2021-08-13T20:17:26.838186Z",
          "iopub.status.idle": "2021-08-13T20:17:26.842318Z",
          "shell.execute_reply.started": "2021-08-13T20:17:26.838153Z",
          "shell.execute_reply": "2021-08-13T20:17:26.841243Z"
        },
        "trusted": true,
        "id": "Sssv-LHN9joa"
      },
      "source": [
        "import pandas as pd"
      ],
      "execution_count": null,
      "outputs": []
    },
    {
      "cell_type": "code",
      "metadata": {
        "execution": {
          "iopub.status.busy": "2021-08-13T20:17:26.86105Z",
          "iopub.execute_input": "2021-08-13T20:17:26.861363Z",
          "iopub.status.idle": "2021-08-13T20:17:26.871568Z",
          "shell.execute_reply.started": "2021-08-13T20:17:26.861332Z",
          "shell.execute_reply": "2021-08-13T20:17:26.870597Z"
        },
        "trusted": true,
        "id": "XC2J8L1c9job"
      },
      "source": [
        "import json\n",
        "with open('../input/file-paths-dataset/file_paths.json', 'r') as fp:\n",
        "    json_data = json.load(fp)"
      ],
      "execution_count": null,
      "outputs": []
    },
    {
      "cell_type": "code",
      "metadata": {
        "execution": {
          "iopub.status.busy": "2021-08-13T20:17:26.976339Z",
          "iopub.execute_input": "2021-08-13T20:17:26.976721Z",
          "iopub.status.idle": "2021-08-13T20:17:26.981552Z",
          "shell.execute_reply.started": "2021-08-13T20:17:26.976686Z",
          "shell.execute_reply": "2021-08-13T20:17:26.98047Z"
        },
        "trusted": true,
        "id": "ab_pnkpM9job"
      },
      "source": [
        "choosen_indices = ['4', '5']"
      ],
      "execution_count": null,
      "outputs": []
    },
    {
      "cell_type": "code",
      "metadata": {
        "execution": {
          "iopub.status.busy": "2021-08-13T20:17:27.053995Z",
          "iopub.execute_input": "2021-08-13T20:17:27.054359Z",
          "iopub.status.idle": "2021-08-13T20:17:27.058768Z",
          "shell.execute_reply.started": "2021-08-13T20:17:27.054323Z",
          "shell.execute_reply": "2021-08-13T20:17:27.057568Z"
        },
        "trusted": true,
        "id": "SaNoOAVo9job"
      },
      "source": [
        "list_1 = json_data[choosen_indices[0]]\n",
        "list_2 = json_data[choosen_indices[1]]"
      ],
      "execution_count": null,
      "outputs": []
    },
    {
      "cell_type": "code",
      "metadata": {
        "execution": {
          "iopub.status.busy": "2021-08-13T20:17:27.060919Z",
          "iopub.execute_input": "2021-08-13T20:17:27.061735Z",
          "iopub.status.idle": "2021-08-13T20:17:27.071772Z",
          "shell.execute_reply.started": "2021-08-13T20:17:27.06169Z",
          "shell.execute_reply": "2021-08-13T20:17:27.070776Z"
        },
        "trusted": true,
        "id": "E8LEbX2y9job"
      },
      "source": [
        "list_1 = list_1[:20]"
      ],
      "execution_count": null,
      "outputs": []
    },
    {
      "cell_type": "code",
      "metadata": {
        "execution": {
          "iopub.status.busy": "2021-08-13T20:17:27.074062Z",
          "iopub.execute_input": "2021-08-13T20:17:27.074727Z",
          "iopub.status.idle": "2021-08-13T20:18:34.836495Z",
          "shell.execute_reply.started": "2021-08-13T20:17:27.074654Z",
          "shell.execute_reply": "2021-08-13T20:18:34.835619Z"
        },
        "trusted": true,
        "id": "eWGvLvnS9joc"
      },
      "source": [
        "!conda install -y gdown \n",
        "import gdown"
      ],
      "execution_count": null,
      "outputs": []
    },
    {
      "cell_type": "code",
      "metadata": {
        "execution": {
          "iopub.status.busy": "2021-08-13T20:18:34.838216Z",
          "iopub.execute_input": "2021-08-13T20:18:34.838586Z",
          "iopub.status.idle": "2021-08-13T20:19:30.0131Z",
          "shell.execute_reply.started": "2021-08-13T20:18:34.838535Z",
          "shell.execute_reply": "2021-08-13T20:19:30.012298Z"
        },
        "trusted": true,
        "id": "tIMxQwpG9joc"
      },
      "source": [
        "# https://drive.google.com/file/d/18iv0C9LuRXLj1WdubzpWIDdDTzZPdah4/view?usp=sharing\n",
        "# https://drive.google.com/file/d/1aFxYpCOjoM03KIu7OtCUxkaN1s6z1qd0/view?usp=sharing\n",
        "url = 'https://drive.google.com/uc?id=1aFxYpCOjoM03KIu7OtCUxkaN1s6z1qd0' \n",
        "output = 'playlist.tar.gz'\n",
        "gdown.download(url, output)"
      ],
      "execution_count": null,
      "outputs": []
    },
    {
      "cell_type": "code",
      "metadata": {
        "execution": {
          "iopub.status.busy": "2021-08-13T20:19:30.014425Z",
          "iopub.execute_input": "2021-08-13T20:19:30.014784Z",
          "iopub.status.idle": "2021-08-13T20:21:38.509986Z",
          "shell.execute_reply.started": "2021-08-13T20:19:30.014749Z",
          "shell.execute_reply": "2021-08-13T20:21:38.508893Z"
        },
        "trusted": true,
        "id": "1L3VNjbj9jod"
      },
      "source": [
        "!tar -xzf ./playlist.tar.gz"
      ],
      "execution_count": null,
      "outputs": []
    },
    {
      "cell_type": "code",
      "metadata": {
        "execution": {
          "iopub.status.busy": "2021-08-13T20:21:38.51177Z",
          "iopub.execute_input": "2021-08-13T20:21:38.512123Z",
          "iopub.status.idle": "2021-08-13T20:22:49.47557Z",
          "shell.execute_reply.started": "2021-08-13T20:21:38.512084Z",
          "shell.execute_reply": "2021-08-13T20:22:49.474511Z"
        },
        "trusted": true,
        "id": "-mLRAJ6M9jod"
      },
      "source": [
        "!conda install -c conda-forge ffmpeg libsndfile -y"
      ],
      "execution_count": null,
      "outputs": []
    },
    {
      "cell_type": "code",
      "metadata": {
        "execution": {
          "iopub.status.busy": "2021-08-13T20:22:49.480123Z",
          "iopub.execute_input": "2021-08-13T20:22:49.480463Z",
          "iopub.status.idle": "2021-08-13T20:23:56.639153Z",
          "shell.execute_reply.started": "2021-08-13T20:22:49.480426Z",
          "shell.execute_reply": "2021-08-13T20:23:56.638211Z"
        },
        "trusted": true,
        "id": "eYbzjkLV9jod"
      },
      "source": [
        "!pip install spleeter"
      ],
      "execution_count": null,
      "outputs": []
    },
    {
      "cell_type": "code",
      "metadata": {
        "execution": {
          "iopub.status.busy": "2021-08-13T20:23:56.643099Z",
          "iopub.execute_input": "2021-08-13T20:23:56.643425Z",
          "iopub.status.idle": "2021-08-13T20:23:59.172383Z",
          "shell.execute_reply.started": "2021-08-13T20:23:56.643395Z",
          "shell.execute_reply": "2021-08-13T20:23:59.171395Z"
        },
        "trusted": true,
        "id": "BE0VuvdA9jod"
      },
      "source": [
        "import tensorflow as tf"
      ],
      "execution_count": null,
      "outputs": []
    },
    {
      "cell_type": "code",
      "metadata": {
        "execution": {
          "iopub.status.busy": "2021-08-13T20:23:59.174015Z",
          "iopub.execute_input": "2021-08-13T20:23:59.17443Z",
          "iopub.status.idle": "2021-08-13T20:24:06.481162Z",
          "shell.execute_reply.started": "2021-08-13T20:23:59.174386Z",
          "shell.execute_reply": "2021-08-13T20:24:06.480064Z"
        },
        "trusted": true,
        "id": "O2gZUhe-9joe"
      },
      "source": [
        "!pip install --upgrade tensorflow-hub"
      ],
      "execution_count": null,
      "outputs": []
    },
    {
      "cell_type": "code",
      "metadata": {
        "execution": {
          "iopub.status.busy": "2021-08-13T20:24:06.485358Z",
          "iopub.execute_input": "2021-08-13T20:24:06.485721Z",
          "iopub.status.idle": "2021-08-13T20:24:12.655262Z",
          "shell.execute_reply.started": "2021-08-13T20:24:06.485683Z",
          "shell.execute_reply": "2021-08-13T20:24:12.654267Z"
        },
        "trusted": true,
        "id": "EzTZigzC9joe"
      },
      "source": [
        "import tensorflow_hub as hub\n",
        "yamnet_model_handle = 'https://tfhub.dev/google/yamnet/1'\n",
        "yamnet_model = hub.load(yamnet_model_handle)"
      ],
      "execution_count": null,
      "outputs": []
    },
    {
      "cell_type": "code",
      "metadata": {
        "execution": {
          "iopub.status.busy": "2021-08-13T20:24:12.656853Z",
          "iopub.execute_input": "2021-08-13T20:24:12.657214Z",
          "iopub.status.idle": "2021-08-13T20:24:20.32841Z",
          "shell.execute_reply.started": "2021-08-13T20:24:12.657176Z",
          "shell.execute_reply": "2021-08-13T20:24:20.327303Z"
        },
        "trusted": true,
        "id": "7hgiUgdP9joe"
      },
      "source": [
        "!pip install scipy"
      ],
      "execution_count": null,
      "outputs": []
    },
    {
      "cell_type": "code",
      "metadata": {
        "execution": {
          "iopub.status.busy": "2021-08-13T20:24:20.33228Z",
          "iopub.execute_input": "2021-08-13T20:24:20.332639Z",
          "iopub.status.idle": "2021-08-13T20:24:20.349365Z",
          "shell.execute_reply.started": "2021-08-13T20:24:20.332599Z",
          "shell.execute_reply": "2021-08-13T20:24:20.348408Z"
        },
        "trusted": true,
        "id": "HgNPytaT9joe"
      },
      "source": [
        "from scipy.io import wavfile"
      ],
      "execution_count": null,
      "outputs": []
    },
    {
      "cell_type": "code",
      "metadata": {
        "execution": {
          "iopub.status.busy": "2021-08-13T20:24:20.351678Z",
          "iopub.execute_input": "2021-08-13T20:24:20.352417Z",
          "iopub.status.idle": "2021-08-13T20:24:20.561915Z",
          "shell.execute_reply.started": "2021-08-13T20:24:20.352364Z",
          "shell.execute_reply": "2021-08-13T20:24:20.560872Z"
        },
        "trusted": true,
        "id": "jd0NQwl99joe"
      },
      "source": [
        "from scipy.io import wavfile\n",
        "import scipy.signal\n",
        "\n",
        "def ensure_sample_rate(original_sample_rate, waveform,\n",
        "                       desired_sample_rate=16000):\n",
        "  \"\"\"Resample waveform if required.\"\"\"\n",
        "  if original_sample_rate != desired_sample_rate:\n",
        "    desired_length = int(round(float(len(waveform)) /\n",
        "                               original_sample_rate * desired_sample_rate))\n",
        "    waveform = scipy.signal.resample(waveform, desired_length)\n",
        "  return desired_sample_rate, waveform\n",
        "\n",
        "# sample_rate, wav_data = wavfile.read('./output/Anjaana_Anjaani/accompaniment.wav', 'rb')\n",
        "# sample_rate, wav_data = ensure_sample_rate(sample_rate, wav_data)"
      ],
      "execution_count": null,
      "outputs": []
    },
    {
      "cell_type": "code",
      "metadata": {
        "execution": {
          "iopub.status.busy": "2021-08-13T20:24:20.563437Z",
          "iopub.execute_input": "2021-08-13T20:24:20.563915Z",
          "iopub.status.idle": "2021-08-13T20:24:21.545941Z",
          "shell.execute_reply.started": "2021-08-13T20:24:20.563864Z",
          "shell.execute_reply": "2021-08-13T20:24:21.544727Z"
        },
        "trusted": true,
        "id": "TpwdmGq69joe"
      },
      "source": [
        "!rm ./playlist.tar.gz"
      ],
      "execution_count": null,
      "outputs": []
    },
    {
      "cell_type": "code",
      "metadata": {
        "execution": {
          "iopub.status.busy": "2021-08-13T20:24:21.547858Z",
          "iopub.execute_input": "2021-08-13T20:24:21.548244Z"
        },
        "trusted": true,
        "id": "g612DZJP9jof"
      },
      "source": [
        "import os\n",
        "import subprocess\n",
        "from collections import defaultdict\n",
        "import torchaudio\n",
        "\n",
        "index = 0\n",
        "\n",
        "hash_map_music = defaultdict(lambda: defaultdict(list))\n",
        "\n",
        "index = 0\n",
        "break_out = False\n",
        "for dirname, _, filenames in os.walk('./playlist'):\n",
        "    for filename in filenames:\n",
        "        if ''.join(filename[-3:]) == 'mp3':\n",
        "            file_loc = dirname + '/' + filename\n",
        "            file_loc_truncated = file_loc.replace(' ', '')\n",
        "            file_key = 'music_for_you/' + \"\".join(file_loc_truncated[2:])\n",
        "            if file_key in list_1:\n",
        "                print(dirname, filename, index)\n",
        "                subprocess.call(['spleeter', 'separate', '-p', 'spleeter:2stems', '-o', 'output', file_loc])\n",
        "                directory_name = ''.join(filename[:-4])\n",
        "\n",
        "                sample_rate, wav_data = wavfile.read('./output/' + directory_name + '/accompaniment.wav', 'rb')\n",
        "                sample_rate_beats, wav_data_beats = ensure_sample_rate(sample_rate, wav_data)\n",
        "                wav_data_beats = wav_data_beats.ravel()\n",
        "                scores_beats, embeddings_beats, spectrogram_beats = yamnet_model(wav_data_beats)\n",
        "\n",
        "                sample_rate, wav_data = wavfile.read('./output/' + directory_name + '/vocals.wav', 'rb')\n",
        "                sample_rate_vocals, wav_data_vocals = ensure_sample_rate(sample_rate, wav_data)\n",
        "                wav_data_vocals = wav_data_vocals.ravel()\n",
        "                scores_vocals, embeddings_vocals, spectrogram_vocals = yamnet_model(wav_data_vocals)\n",
        "\n",
        "                wav_data, sample_rate = torchaudio.load(file_loc)\n",
        "                sample_rate_song, wav_data_song = ensure_sample_rate(sample_rate, wav_data)\n",
        "                wav_data_song = wav_data_song.ravel()\n",
        "                scores_song, embeddings_song, spectrogram_song = yamnet_model(wav_data_song)\n",
        "\n",
        "                file_loc_truncated = file_loc.replace(' ', '')\n",
        "                file_key = 'music_for_you/' + \"\".join(file_loc_truncated[2:])\n",
        "                hash_map_music[file_key]['beats'] = embeddings_beats.numpy()\n",
        "                hash_map_music[file_key]['vocals'] = embeddings_vocals.numpy()\n",
        "                hash_map_music[file_key]['song'] = embeddings_song.numpy()\n",
        "                index += 1         "
      ],
      "execution_count": null,
      "outputs": []
    },
    {
      "cell_type": "code",
      "metadata": {
        "trusted": true,
        "id": "1qW_XsSx9jof"
      },
      "source": [
        "new_hash_music_dictionary = defaultdict(lambda: defaultdict(list))\n",
        "for key, val in hash_map_music.items():\n",
        "\tfor key_inner, val_inner in val.items():\n",
        "\t\tnew_hash_music_dictionary[key][key_inner] = val_inner.tolist()\n",
        "\n",
        "with open('hash_map_4.json', 'w') as fp:\n",
        "    json.dump(new_hash_music_dictionary, fp, indent=4)"
      ],
      "execution_count": null,
      "outputs": []
    },
    {
      "cell_type": "code",
      "metadata": {
        "trusted": true,
        "id": "Cj_LCNQq9jof"
      },
      "source": [
        "# !rm ./playlist.tar.gz"
      ],
      "execution_count": null,
      "outputs": []
    },
    {
      "cell_type": "code",
      "metadata": {
        "trusted": true,
        "id": "QcNsFayJ9jof"
      },
      "source": [
        "import os\n",
        "import subprocess\n",
        "from collections import defaultdict\n",
        "import torchaudio\n",
        "\n",
        "index = 0\n",
        "\n",
        "hash_map_music = defaultdict(lambda: defaultdict(list))\n",
        "\n",
        "index = 0\n",
        "break_out = False\n",
        "for dirname, _, filenames in os.walk('./playlist'):\n",
        "    for filename in filenames:\n",
        "        if ''.join(filename[-3:]) == 'mp3':\n",
        "            file_loc = dirname + '/' + filename\n",
        "            file_loc_truncated = file_loc.replace(' ', '')\n",
        "            file_key = 'music_for_you/' + \"\".join(file_loc_truncated[2:])\n",
        "            if file_key in list_2:\n",
        "                print(dirname, filename, index)\n",
        "                subprocess.call(['spleeter', 'separate', '-p', 'spleeter:2stems', '-o', 'output', file_loc])\n",
        "                directory_name = ''.join(filename[:-4])\n",
        "\n",
        "                sample_rate, wav_data = wavfile.read('./output/' + directory_name + '/accompaniment.wav', 'rb')\n",
        "                sample_rate_beats, wav_data_beats = ensure_sample_rate(sample_rate, wav_data)\n",
        "                wav_data_beats = wav_data_beats.ravel()\n",
        "                scores_beats, embeddings_beats, spectrogram_beats = yamnet_model(wav_data_beats)\n",
        "\n",
        "                sample_rate, wav_data = wavfile.read('./output/' + directory_name + '/vocals.wav', 'rb')\n",
        "                sample_rate_vocals, wav_data_vocals = ensure_sample_rate(sample_rate, wav_data)\n",
        "                wav_data_vocals = wav_data_vocals.ravel()\n",
        "                scores_vocals, embeddings_vocals, spectrogram_vocals = yamnet_model(wav_data_vocals)\n",
        "\n",
        "                wav_data, sample_rate = torchaudio.load(file_loc)\n",
        "                sample_rate_song, wav_data_song = ensure_sample_rate(sample_rate, wav_data)\n",
        "                wav_data_song = wav_data_song.ravel()\n",
        "                scores_song, embeddings_song, spectrogram_song = yamnet_model(wav_data_song)\n",
        "\n",
        "                file_loc_truncated = file_loc.replace(' ', '')\n",
        "                file_key = 'music_for_you/' + \"\".join(file_loc_truncated[2:])\n",
        "                hash_map_music[file_key]['beats'] = embeddings_beats.numpy()\n",
        "                hash_map_music[file_key]['vocals'] = embeddings_vocals.numpy()\n",
        "                hash_map_music[file_key]['song'] = embeddings_song.numpy()\n",
        "                index += 1         "
      ],
      "execution_count": null,
      "outputs": []
    },
    {
      "cell_type": "code",
      "metadata": {
        "trusted": true,
        "id": "l5hC1InY9jof"
      },
      "source": [
        "new_hash_music_dictionary = defaultdict(lambda: defaultdict(list))\n",
        "for key, val in hash_map_music.items():\n",
        "\tfor key_inner, val_inner in val.items():\n",
        "\t\tnew_hash_music_dictionary[key][key_inner] = val_inner.tolist()\n",
        "\n",
        "with open('hash_map_1.json', 'w') as fp:\n",
        "    json.dump(new_hash_music_dictionary, fp, indent=4)"
      ],
      "execution_count": null,
      "outputs": []
    },
    {
      "cell_type": "code",
      "metadata": {
        "id": "TywJTMHS9jog"
      },
      "source": [
        ""
      ],
      "execution_count": null,
      "outputs": []
    }
  ]
}